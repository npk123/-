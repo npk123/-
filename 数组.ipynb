{
 "cells": [
  {
   "cell_type": "code",
   "execution_count": 3,
   "metadata": {},
   "outputs": [
    {
     "name": "stdout",
     "output_type": "stream",
     "text": [
      "[5, 7, 10, 14, 15, 20, 21, 25, 28, 30, 35, 40, 42, 45, 49, 50, 55, 56, 60, 63, 65, 70, 75, 77, 80, 84, 85, 90, 91, 95, 98, 100]\n",
      "totally cost\n"
     ]
    }
   ],
   "source": [
    "def findn(n):\n",
    "    A = []\n",
    "    for i in range(2,n+1):\n",
    "        if i%5==0 or i%7==0:\n",
    "            A.append(i)\n",
    "    print(A)\n",
    "findn(100)\n",
    "print('totally cost')\n"
   ]
  },
  {
   "cell_type": "code",
   "execution_count": 11,
   "metadata": {},
   "outputs": [
    {
     "name": "stdout",
     "output_type": "stream",
     "text": [
      "True\n"
     ]
    }
   ],
   "source": [
    "import numpy as np\n",
    "def toplitz(matrix):\n",
    "    m = np.size(matrix,0)\n",
    "    n = np.size(matrix,1)\n",
    "    false = 0\n",
    "    for i in range(m-1):\n",
    "        for j in range(n-1):\n",
    "            if matrix[i][j] != matrix[i+1][j+1]:\n",
    "                false+=1\n",
    "    if false:\n",
    "        print(False)\n",
    "    else:\n",
    "        print(True)\n",
    "        \n",
    "toplitz([\n",
    "    [1,2,3,4],\n",
    "    [5,1,2,3],\n",
    "    [9,5,1,2],\n",
    "])\n"
   ]
  },
  {
   "cell_type": "code",
   "execution_count": null,
   "metadata": {},
   "outputs": [],
   "source": [
    "class Solution:\n",
    "    def threeSum(self, nums):\n",
    "  \n",
    "        result = []\n",
    "        for i, a in enumerate(nums):\n",
    "            for j, b in enumerate(nums[i + 1:]):\n",
    "                for _, c in enumerate(nums[j + i + 2:]):\n",
    "                    if a + b + c == 0:\n",
    "                        result.append([a, b, c])\n",
    "        return result"
   ]
  },
  {
   "cell_type": "code",
   "execution_count": 17,
   "metadata": {},
   "outputs": [],
   "source": [
    "def threesum(nums):\n",
    "    if not nums and len(nums)<3:#空或者少于三个元素不考虑\n",
    "        return False\n",
    "    res = []\n",
    "    nums.sort()#关键：升序排序\n",
    "    for i in range(len(nums)):\n",
    "        if nums[i]>0:#后面只能比它还大，所以和肯定不等于零\n",
    "            return res\n",
    "        if i>0 and nums[i] == nums[i-1]:#跳过重复解\n",
    "            continue\n",
    "        L = i+1\n",
    "        R = len(nums)-1\n",
    "        while L<R:\n",
    "            if nums[L]+nums[i]+nums[R]==0:\n",
    "                res.append([nums[i],nums[L],nums[R]])\n",
    "                while nums[L] == nums[L+1]:#跳过重复元素\n",
    "                    L=L+1\n",
    "                while nums[R] == nums[R-1]:#跳过重复元素\n",
    "                    R=R-1\n",
    "                L = L+1\n",
    "                R = R-1\n",
    "            elif nums[L]+nums[i]+nums[R]>0:#若和大于0，则应该是nums[R]大了，左移减小\n",
    "                R=R-1\n",
    "            elif nums[L]+nums[i]+nums[R]<0:#若和小于0，则应该是nums[L]小了，右移增大\n",
    "                L=L+1\n",
    "    print(res)                "
   ]
  },
  {
   "cell_type": "code",
   "execution_count": 19,
   "metadata": {},
   "outputs": [
    {
     "data": {
      "text/plain": [
       "[[-5, -1, 6], [-1, -1, 2], [-1, 0, 1]]"
      ]
     },
     "execution_count": 19,
     "metadata": {},
     "output_type": "execute_result"
    }
   ],
   "source": [
    "threesum([-1, 0, 1, 2, -1, -4, -5, 6])"
   ]
  },
  {
   "cell_type": "code",
   "execution_count": null,
   "metadata": {},
   "outputs": [],
   "source": []
  }
 ],
 "metadata": {
  "kernelspec": {
   "display_name": "Python 3",
   "language": "python",
   "name": "python3"
  },
  "language_info": {
   "codemirror_mode": {
    "name": "ipython",
    "version": 3
   },
   "file_extension": ".py",
   "mimetype": "text/x-python",
   "name": "python",
   "nbconvert_exporter": "python",
   "pygments_lexer": "ipython3",
   "version": "3.7.0"
  }
 },
 "nbformat": 4,
 "nbformat_minor": 2
}
